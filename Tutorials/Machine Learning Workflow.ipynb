{
 "cells": [
  {
   "cell_type": "markdown",
   "id": "578689a0",
   "metadata": {},
   "source": [
    "# Maching Leanring Workflow\n",
    "1. 수집\n",
    " - 데이터 수집\n",
    "2. 점검 및 탐색\n",
    " - 데이터 구조, 노이즈 데이터, 머신 러닝 적용을 위한 데이터 정제 방법 파악\n",
    " - 탐색적 데이터 분석\n",
    "3. 전처리 및 정제\n",
    " - 토큰화, 정제, 정규화, 불용어 제거 등\n",
    " - 가끔 모델로 전처리함\n",
    "4. 모델링 및 훈련\n",
    " - 훈련, 검증, 테스트 (train, val, test)\n",
    "5. 평가\n",
    "6. 배포"
   ]
  },
  {
   "cell_type": "code",
   "execution_count": null,
   "id": "d8272c84",
   "metadata": {},
   "outputs": [],
   "source": []
  }
 ],
 "metadata": {
  "kernelspec": {
   "display_name": "Python 3 (ipykernel)",
   "language": "python",
   "name": "python3"
  },
  "language_info": {
   "codemirror_mode": {
    "name": "ipython",
    "version": 3
   },
   "file_extension": ".py",
   "mimetype": "text/x-python",
   "name": "python",
   "nbconvert_exporter": "python",
   "pygments_lexer": "ipython3",
   "version": "3.9.7"
  }
 },
 "nbformat": 4,
 "nbformat_minor": 5
}
