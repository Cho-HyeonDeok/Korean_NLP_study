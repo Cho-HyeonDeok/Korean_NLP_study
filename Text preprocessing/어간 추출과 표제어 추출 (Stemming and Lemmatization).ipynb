{
 "cells": [
  {
   "cell_type": "markdown",
   "id": "53f82c39",
   "metadata": {},
   "source": [
    "- 아무튼 하나의 단어로 일반화 시켜 문서 내 단어 수 줄이기\n"
   ]
  },
  {
   "cell_type": "markdown",
   "id": "5da1bda7",
   "metadata": {},
   "source": [
    "# 1. 표제어 추출(Lemmatizatin)\n",
    "\n",
    "- 표제어(Lemma)는 한글로 '표제어', '기본 사전형 단어'\n",
    "- 뿌리단어를 찾아 가는 과정 => am, are, is : be(표제어)\n",
    "  \n",
    "  \n",
    "1. 어간(stem)\n",
    " - 단어의 의미를 담는 단어의 핵심 부분\n",
    "2. 접사(affix)\n",
    " - 단어에 추가적인 의미 부여 부분\n",
    " \n",
    "- 형태학적 파싱 : cats -> cat, -s"
   ]
  },
  {
   "cell_type": "code",
   "execution_count": 2,
   "id": "2b00c932",
   "metadata": {},
   "outputs": [
    {
     "name": "stderr",
     "output_type": "stream",
     "text": [
      "[nltk_data] Downloading package wordnet to C:\\nltk_data...\n",
      "[nltk_data]   Unzipping corpora\\wordnet.zip.\n"
     ]
    },
    {
     "data": {
      "text/plain": [
       "True"
      ]
     },
     "execution_count": 2,
     "metadata": {},
     "output_type": "execute_result"
    }
   ],
   "source": [
    "import nltk\n",
    "nltk.download('wordnet')"
   ]
  },
  {
   "cell_type": "code",
   "execution_count": 3,
   "id": "a504766d",
   "metadata": {},
   "outputs": [
    {
     "name": "stdout",
     "output_type": "stream",
     "text": [
      "표제어 추출 전 : ['policy', 'doing', 'organization', 'have', 'going', 'love', 'lives', 'fly', 'dies', 'watched', 'has', 'starting']\n",
      "표제어 추출 후 : ['policy', 'doing', 'organization', 'have', 'going', 'love', 'life', 'fly', 'dy', 'watched', 'ha', 'starting']\n"
     ]
    }
   ],
   "source": [
    "from nltk.stem import WordNetLemmatizer\n",
    "\n",
    "lemmatizer = WordNetLemmatizer()\n",
    "\n",
    "words = ['policy', 'doing', 'organization', 'have', 'going', 'love', 'lives', 'fly', 'dies', 'watched', 'has', 'starting']\n",
    "\n",
    "print('표제어 추출 전 :',words)\n",
    "print('표제어 추출 후 :',[lemmatizer.lemmatize(word) for word in words])"
   ]
  },
  {
   "cell_type": "markdown",
   "id": "f61abfe4",
   "metadata": {},
   "source": [
    "- 정확하지 않은 경우 : lemmatizer가 본래 단어의 품사를 알아야 정확한 결과 추출 가능"
   ]
  },
  {
   "cell_type": "code",
   "execution_count": 4,
   "id": "413e0b42",
   "metadata": {},
   "outputs": [
    {
     "data": {
      "text/plain": [
       "'have'"
      ]
     },
     "execution_count": 4,
     "metadata": {},
     "output_type": "execute_result"
    }
   ],
   "source": [
    "lemmatizer.lemmatize('dies', 'v')\n",
    "lemmatizer.lemmatize('watched', 'v')\n",
    "lemmatizer.lemmatize('has', 'v')"
   ]
  },
  {
   "cell_type": "markdown",
   "id": "b98f0151",
   "metadata": {},
   "source": [
    "# 2. 어간 추출(Stemming)\n",
    "- 섬세한 작업이 아님"
   ]
  },
  {
   "cell_type": "code",
   "execution_count": 5,
   "id": "17eb992c",
   "metadata": {},
   "outputs": [
    {
     "name": "stdout",
     "output_type": "stream",
     "text": [
      "어간 추출 전 : ['This', 'was', 'not', 'the', 'map', 'we', 'found', 'in', 'Billy', 'Bones', \"'s\", 'chest', ',', 'but', 'an', 'accurate', 'copy', ',', 'complete', 'in', 'all', 'things', '--', 'names', 'and', 'heights', 'and', 'soundings', '--', 'with', 'the', 'single', 'exception', 'of', 'the', 'red', 'crosses', 'and', 'the', 'written', 'notes', '.']\n",
      "어간 추출 후 : ['thi', 'wa', 'not', 'the', 'map', 'we', 'found', 'in', 'billi', 'bone', \"'s\", 'chest', ',', 'but', 'an', 'accur', 'copi', ',', 'complet', 'in', 'all', 'thing', '--', 'name', 'and', 'height', 'and', 'sound', '--', 'with', 'the', 'singl', 'except', 'of', 'the', 'red', 'cross', 'and', 'the', 'written', 'note', '.']\n"
     ]
    }
   ],
   "source": [
    "# PoterStemmer 의 경우\n",
    "from nltk.stem import PorterStemmer\n",
    "from nltk.tokenize import word_tokenize\n",
    "\n",
    "stemmer = PorterStemmer()\n",
    "\n",
    "sentence = \"This was not the map we found in Billy Bones's chest, but an accurate copy, complete in all things--names and heights and soundings--with the single exception of the red crosses and the written notes.\"\n",
    "tokenized_sentence = word_tokenize(sentence)\n",
    "\n",
    "print('어간 추출 전 :', tokenized_sentence)\n",
    "print('어간 추출 후 :',[stemmer.stem(word) for word in tokenized_sentence])"
   ]
  },
  {
   "cell_type": "markdown",
   "id": "7ed423bc",
   "metadata": {},
   "source": [
    "규칙 기반의 접근을 하고 있으므로 어간 추출 후의 결과에는 사전에 없는 단어들도 포함되어 있습니다. 가령, 포터 알고리즘의 어간 추출은 이러한 규칙들을 가집니다.  \n",
    "  \n",
    "ALIZE → AL  \n",
    "ANCE → 제거  \n",
    "ICAL → IC  \n",
    "  \n",
    "위의 규칙에 따르면 좌측의 단어는 우측의 단어와 같은 결과를 얻게됩니다.  \n",
    "  \n",
    "formalize → formal    \n",
    "allowance → allow  \n",
    "electricical → electric  "
   ]
  },
  {
   "cell_type": "code",
   "execution_count": 6,
   "id": "6b6e1c4f",
   "metadata": {},
   "outputs": [
    {
     "name": "stdout",
     "output_type": "stream",
     "text": [
      "어간 추출 전 : ['formalize', 'allowance', 'electricical']\n",
      "어간 추출 후 : ['formal', 'allow', 'electric']\n"
     ]
    }
   ],
   "source": [
    "words = ['formalize', 'allowance', 'electricical']\n",
    "\n",
    "print('어간 추출 전 :',words)\n",
    "print('어간 추출 후 :',[stemmer.stem(word) for word in words])"
   ]
  },
  {
   "cell_type": "code",
   "execution_count": 7,
   "id": "484cda19",
   "metadata": {},
   "outputs": [
    {
     "name": "stdout",
     "output_type": "stream",
     "text": [
      "어간 추출 전 : ['policy', 'doing', 'organization', 'have', 'going', 'love', 'lives', 'fly', 'dies', 'watched', 'has', 'starting']\n",
      "포터 스테머의 어간 추출 후: ['polici', 'do', 'organ', 'have', 'go', 'love', 'live', 'fli', 'die', 'watch', 'ha', 'start']\n",
      "랭커스터 스테머의 어간 추출 후: ['policy', 'doing', 'org', 'hav', 'going', 'lov', 'liv', 'fly', 'die', 'watch', 'has', 'start']\n"
     ]
    }
   ],
   "source": [
    "# LancasterStemmer의 경우\n",
    "from nltk.stem import PorterStemmer\n",
    "from nltk.stem import LancasterStemmer\n",
    "\n",
    "porter_stemmer = PorterStemmer()\n",
    "lancaster_stemmer = LancasterStemmer()\n",
    "\n",
    "words = ['policy', 'doing', 'organization', 'have', 'going', 'love', 'lives', 'fly', 'dies', 'watched', 'has', 'starting']\n",
    "print('어간 추출 전 :', words)\n",
    "print('포터 스테머의 어간 추출 후:',[porter_stemmer.stem(w) for w in words])\n",
    "print('랭커스터 스테머의 어간 추출 후:',[lancaster_stemmer.stem(w) for w in words])"
   ]
  },
  {
   "cell_type": "markdown",
   "id": "e77fc5c2",
   "metadata": {},
   "source": [
    "차이점  \n",
    "  \n",
    "- Stemming  \n",
    "am → am  \n",
    "the going → the go  \n",
    "having → hav    \n",
    "    \n",
    "    \n",
    "- Lemmatization  \n",
    "am → be  \n",
    "the going → the going  \n",
    "having → have  "
   ]
  },
  {
   "attachments": {
    "image.png": {
     "image/png": "[encoded data removed]"
    }
   },
   "cell_type": "markdown",
   "id": "0b297df5",
   "metadata": {},
   "source": [
    "# 3. 한국어에서의 어간 추출\n",
    "\n",
    "5언 9품사  \n",
    "  \n",
    "![image.png](attachment:image.png)  \n",
    "   \n",
    "용언의 '동사', '형용사'는 어간(stem)과 어미(ending)의 결합으로 구성 됨"
   ]
  },
  {
   "cell_type": "markdown",
   "id": "c6a9c266",
   "metadata": {},
   "source": [
    "1. 활용(Conjugation)\n",
    " - 한국어 말고 인도유럽어(indo-european language)에서도 볼수 있는 특징\n",
    " - 활용 : 용어의 어간이 어미를 가지는 일\n",
    "    \n",
    "    \n",
    "- 어간(stem) : 용언(동사,형용사) 활용 시, 모양이 변하지 않는 부분, 활용에서 어미에 선행하는 부분, 가끔 어간의 모양도 바뀜(긋다, 긋고, 그어서, 그어라)\n",
    "- 어미(ending) : 용언 어간 뒤에 붙어 활용하면서 변함, 여러 문법 기능 수행  \n",
    "  \n",
    "어간이 어미를 취할 때,   \n",
    "어간의 모습이 일정하면 : 규칙 활용  \n",
    "어간이나 어미의 모습이 변하면 : 불규칙 활용  "
   ]
  },
  {
   "cell_type": "markdown",
   "id": "c25cc5b6",
   "metadata": {},
   "source": [
    "2. 규칙 활용 \n",
    " - 어간이 어미를 취할 때, 어간의 모습이 일정함 (잡/어간 + 다/어미)\n",
    " - 규칙 기반으로 어미를 단순히 분리해 어간 추출\n",
    "  \n",
    "  \n",
    "3. 불규칙 활용\n",
    " - 어간이 어미를 취할 때, 어간의 모습이 변하거나, 어미가 특수한 어미인 경우 (듣-, 돕-, 곱-, 잇-, 오르-, 노랗-, ...)\n",
    " - (듣/들-, 돕/도우-, 곱/고우-, 잇/이-, 올/올-, 노랗/노라-')\n",
    " - (오르+ 아/어->올라, 하+아/어 -> 하여, 이르+아/어 -> 이르러, 푸르+아/어->푸르러)\n",
    " - 그지같다 "
   ]
  },
  {
   "cell_type": "code",
   "execution_count": null,
   "id": "ec905160",
   "metadata": {},
   "outputs": [],
   "source": []
  }
 ],
 "metadata": {
  "kernelspec": {
   "display_name": "Python 3 (ipykernel)",
   "language": "python",
   "name": "python3"
  },
  "language_info": {
   "codemirror_mode": {
    "name": "ipython",
    "version": 3
   },
   "file_extension": ".py",
   "mimetype": "text/x-python",
   "name": "python",
   "nbconvert_exporter": "python",
   "pygments_lexer": "ipython3",
   "version": "3.9.7"
  }
 },
 "nbformat": 4,
 "nbformat_minor": 5
}
