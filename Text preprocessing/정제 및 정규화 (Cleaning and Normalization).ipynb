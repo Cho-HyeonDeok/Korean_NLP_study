{
 "cells": [
  {
   "cell_type": "markdown",
   "id": "6c22d4d9",
   "metadata": {},
   "source": [
    "# 정제 및 정규화\n",
    "\n",
    "- 정제 : 노이즈 제거\n",
    "- 정규화 : 다른 단어 통합 -> 같은 단어"
   ]
  },
  {
   "cell_type": "markdown",
   "id": "62ba1a51",
   "metadata": {},
   "source": [
    "## 1. 규칙에 기반해 표기가 다른 단어 통합\n",
    "- USA, US\n",
    "- uh-huh, uhhuh\n",
    "- 어간 추출(stemming), 표제어 추출(lemmatization) : 표기가 다른 단어를 통합하는 방법"
   ]
  },
  {
   "cell_type": "markdown",
   "id": "3ee4d1e7",
   "metadata": {},
   "source": [
    "## 2. 대, 소문자 통합\n",
    "- Automobile 에 소문자 사용하면 automobile로 대문자도 찾기 가능\n",
    "- 구분해야하는 경우가 있음 => US, us, 회사 이름, 사람 이름\n",
    "- 일부만 소문자로 바꾸는 방법도 가능\n",
    "- 종종 그냥 다 소문자가 실용적일때도 있음"
   ]
  },
  {
   "cell_type": "markdown",
   "id": "6dae88be",
   "metadata": {},
   "source": [
    "## 3. 불필요한 단어 제거\n",
    "1. 등장 빈도가 적은 경우\n",
    "- 100000개의 메일에서 5번만 등장한 단어\n",
    "\n",
    "2. 길이가 짧은 단어\n",
    "- 영어의 경우 짧은 단어는 대부분 불용어임\n",
    "- 단어 외 구두점도 한번에 제거\n",
    "- 한국어는 적용하기 힘듬\n"
   ]
  },
  {
   "cell_type": "code",
   "execution_count": 2,
   "id": "c78e7f96",
   "metadata": {},
   "outputs": [
    {
     "name": "stdout",
     "output_type": "stream",
     "text": [
      " was wondering anyone out there could enlighten this car.\n"
     ]
    }
   ],
   "source": [
    "# 짧은 단어 제거 예시\n",
    "import re\n",
    "text = \"I was wondering if anyone out there could enlighten me on this car.\"\n",
    "\n",
    "# 길이가 1~2인 단어들을 정규 표현식을 이용하여 삭제\n",
    "shortword = re.compile(r'\\W*\\b\\w{1,2}\\b')\n",
    "print(shortword.sub('', text))"
   ]
  },
  {
   "cell_type": "markdown",
   "id": "0c206775",
   "metadata": {},
   "source": [
    "## 4. 정규 표현식 (Regular Expression)\n",
    "- HTML 태그\n",
    "- 뉴스 기사 -> 게재 시간\n",
    "- 정규 표현식을 사용하여 한번에 제거 "
   ]
  },
  {
   "cell_type": "code",
   "execution_count": null,
   "id": "adea1665",
   "metadata": {},
   "outputs": [],
   "source": []
  }
 ],
 "metadata": {
  "kernelspec": {
   "display_name": "Python 3 (ipykernel)",
   "language": "python",
   "name": "python3"
  },
  "language_info": {
   "codemirror_mode": {
    "name": "ipython",
    "version": 3
   },
   "file_extension": ".py",
   "mimetype": "text/x-python",
   "name": "python",
   "nbconvert_exporter": "python",
   "pygments_lexer": "ipython3",
   "version": "3.9.7"
  }
 },
 "nbformat": 4,
 "nbformat_minor": 5
}
